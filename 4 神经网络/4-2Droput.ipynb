{
 "cells": [
  {
   "cell_type": "code",
   "execution_count": null,
   "metadata": {},
   "outputs": [],
   "source": [
    "import tensorflow as tf\n",
    "from tensorflow.examples.tutorials.mnist import input_data\n",
    "mnist=input_data.read_data_sets(\"MNIST_data\",one_hot=True)\n",
    "#每个批次的大小，以矩阵放入\n",
    "batch_size=100\n",
    "#计算一共有多少个批次\n",
    "n_batch=mnist.train.num_examples // batch_size"
   ]
  },
  {
   "cell_type": "code",
   "execution_count": 10,
   "metadata": {},
   "outputs": [
    {
     "name": "stdout",
     "output_type": "stream",
     "text": [
      "Iter0,Testing Accuracy0.8336      Iter0,Train Accuracy0.8279273\n",
      "Iter1,Testing Accuracy0.8416      Iter1,Train Accuracy0.8407636\n",
      "Iter2,Testing Accuracy0.8447      Iter2,Train Accuracy0.8458545\n",
      "Iter3,Testing Accuracy0.8478      Iter3,Train Accuracy0.85236365\n",
      "Iter4,Testing Accuracy0.8532      Iter4,Train Accuracy0.8570727\n",
      "Iter5,Testing Accuracy0.8554      Iter5,Train Accuracy0.86030906\n",
      "Iter6,Testing Accuracy0.8569      Iter6,Train Accuracy0.8627091\n",
      "Iter7,Testing Accuracy0.8593      Iter7,Train Accuracy0.8659818\n",
      "Iter8,Testing Accuracy0.8613      Iter8,Train Accuracy0.8690364\n",
      "Iter9,Testing Accuracy0.8645      Iter9,Train Accuracy0.8714909\n",
      "Iter10,Testing Accuracy0.8649      Iter10,Train Accuracy0.8732182\n",
      "Iter11,Testing Accuracy0.866      Iter11,Train Accuracy0.8752546\n",
      "Iter12,Testing Accuracy0.8679      Iter12,Train Accuracy0.8762\n",
      "Iter13,Testing Accuracy0.9611      Iter13,Train Accuracy0.971\n",
      "Iter14,Testing Accuracy0.9634      Iter14,Train Accuracy0.9742909\n",
      "Iter15,Testing Accuracy0.9654      Iter15,Train Accuracy0.9754364\n",
      "Iter16,Testing Accuracy0.9649      Iter16,Train Accuracy0.97703636\n",
      "Iter17,Testing Accuracy0.967      Iter17,Train Accuracy0.97825456\n",
      "Iter18,Testing Accuracy0.9669      Iter18,Train Accuracy0.97974545\n",
      "Iter19,Testing Accuracy0.9674      Iter19,Train Accuracy0.9799455\n",
      "Iter20,Testing Accuracy0.9686      Iter20,Train Accuracy0.98152727\n"
     ]
    }
   ],
   "source": [
    "\n",
    "#定义palcehoder\n",
    "#None里面传入批次大小，将图像转为784向量\n",
    "# [None, 784]是tensor的shape， None表示第一维(横向增长)是任意数量，784表示第二维是784维\n",
    "\n",
    "\n",
    "#定义占位符\n",
    "x=tf.placeholder(tf.float32,[None,784])\n",
    "y=tf.placeholder(tf.float32,[None,10])\n",
    "keep_prob=tf.placeholder(tf.float32)\n",
    "\n",
    "#创建网络\n",
    "\"\"\"\n",
    "建立一个神经元\n",
    "\"\"\"\n",
    "W1=tf.Variable(tf.truncated_normal([784,1000],stddev=0.1))\n",
    "b1=tf.Variable(tf.zeros([1000])+0.1)\n",
    "L1=tf.nn.tanh(tf.matmul(x,W1)+b1)\n",
    "L1_drop=tf.nn.dropout(L1,keep_prob)\n",
    "\n",
    "W2=tf.Variable(tf.truncated_normal([1000,10],stddev=0.1))\n",
    "b2=tf.Variable(tf.zeros([10])+0.1)\n",
    "prediction=tf.nn.softmax(tf.matmul(L1_drop,W2)+b2)\n",
    "\n",
    "loss=tf.reduce_mean(tf.nn.softmax_cross_entropy_with_logits(labels=y,logits=prediction))\n",
    "\n",
    "#梯度下降\n",
    "train_step=tf.train.GradientDescentOptimizer(0.2).minimize(loss)\n",
    "\n",
    "#继续初始化变量\n",
    "init=tf.global_variables_initializer()\n",
    "\n",
    "correct_prediction=tf.equal(tf.arg_max(y,1),tf.argmax(prediction,1))\n",
    "#转化bool为float型\n",
    "accuracy=tf.reduce_mean(tf.cast(correct_prediction,tf.float32))\n",
    "\n",
    "#会话开始\n",
    "with tf.Session() as sess:\n",
    "    sess.run(init)\n",
    "    for epoch in range(21):\n",
    "        for batch in range(n_batch):\n",
    "            #获得一个批次的数据，然后训练，run的第一次参数将实现其方法，\n",
    "            #第二个参数投入所需数据 \n",
    "            batch_xs,batch_ys=mnist.train.next_batch(batch_size)\n",
    "            sess.run(train_step,feed_dict={x:batch_xs,y:batch_ys,keep_prob:1.0})\n",
    "        test_acc=sess.run(accuracy,feed_dict={x:mnist.test.images,y:mnist.test.labels,keep_prob:1.0})\n",
    "        train_acc=sess.run(accuracy,feed_dict={x:mnist.train.images,y:mnist.train.labels,keep_prob:1.0})\n",
    "        \n",
    "        print(\"Iter\"+str(epoch)+\",Testing Accuracy\"+str(test_acc)+\"      Iter\"+str(epoch)+\",Train Accuracy\"+str(train_acc))"
   ]
  },
  {
   "cell_type": "code",
   "execution_count": null,
   "metadata": {},
   "outputs": [],
   "source": []
  }
 ],
 "metadata": {
  "kernelspec": {
   "display_name": "Python 3",
   "language": "python",
   "name": "python3"
  },
  "language_info": {
   "codemirror_mode": {
    "name": "ipython",
    "version": 3
   },
   "file_extension": ".py",
   "mimetype": "text/x-python",
   "name": "python",
   "nbconvert_exporter": "python",
   "pygments_lexer": "ipython3",
   "version": "3.7.0"
  }
 },
 "nbformat": 4,
 "nbformat_minor": 2
}
