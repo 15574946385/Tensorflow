{
 "cells": [
  {
   "cell_type": "code",
   "execution_count": 11,
   "metadata": {},
   "outputs": [],
   "source": [
    "import tensorflow as tf\n",
    "from tensorflow.examples.tutorials.mnist import input_data"
   ]
  },
  {
   "cell_type": "code",
   "execution_count": 25,
   "metadata": {},
   "outputs": [
    {
     "name": "stdout",
     "output_type": "stream",
     "text": [
      "Extracting MNIST_data\\train-images-idx3-ubyte.gz\n",
      "Extracting MNIST_data\\train-labels-idx1-ubyte.gz\n",
      "Extracting MNIST_data\\t10k-images-idx3-ubyte.gz\n",
      "Extracting MNIST_data\\t10k-labels-idx1-ubyte.gz\n"
     ]
    }
   ],
   "source": [
    "minist=input_data.read_data_sets(\"MNIST_data\",one_hot=True)\n",
    "#每个批次的大小，以矩阵放入\n",
    "batch_size=60\n",
    "#计算一共有多少个批次\n",
    "n_batch=minist.train.num_examples // batch_size"
   ]
  },
  {
   "cell_type": "code",
   "execution_count": 26,
   "metadata": {
    "scrolled": true
   },
   "outputs": [
    {
     "name": "stdout",
     "output_type": "stream",
     "text": [
      "Iter0,Testing Accuracy0.8652\n",
      "Iter1,Testing Accuracy0.883\n",
      "Iter2,Testing Accuracy0.8946\n",
      "Iter3,Testing Accuracy0.8979\n",
      "Iter4,Testing Accuracy0.9021\n",
      "Iter5,Testing Accuracy0.9063\n",
      "Iter6,Testing Accuracy0.907\n",
      "Iter7,Testing Accuracy0.9091\n",
      "Iter8,Testing Accuracy0.9098\n",
      "Iter9,Testing Accuracy0.9116\n",
      "Iter10,Testing Accuracy0.9122\n",
      "Iter11,Testing Accuracy0.9136\n",
      "Iter12,Testing Accuracy0.914\n",
      "Iter13,Testing Accuracy0.9148\n",
      "Iter14,Testing Accuracy0.9156\n",
      "Iter15,Testing Accuracy0.9162\n",
      "Iter16,Testing Accuracy0.9179\n",
      "Iter17,Testing Accuracy0.9187\n",
      "Iter18,Testing Accuracy0.9186\n",
      "Iter19,Testing Accuracy0.9184\n",
      "Iter20,Testing Accuracy0.9185\n"
     ]
    }
   ],
   "source": [
    "\n",
    "\n",
    "#定义palcehoder\n",
    "#None里面传入批次大小，将图像转为784向量\n",
    "# [None, 784]是tensor的shape， None表示第一维(横向增长)是任意数量，784表示第二维是784维\n",
    "x=tf.placeholder(tf.float32,[None,784])\n",
    "y=tf.placeholder(tf.float32,[None,10])\n",
    "\n",
    "#创建网络\n",
    "W=tf.Variable(tf.zeros([784,10]))\n",
    "b=tf.Variable(tf.zeros([10]))\n",
    "prediction=tf.nn.softmax(tf.matmul(x,W)+b)\n",
    "\n",
    "#二次代价函数\n",
    "loss=tf.reduce_mean(tf.square(y-prediction))\n",
    "#梯度下降\n",
    "train_step=tf.train.GradientDescentOptimizer(0.2).minimize(loss)\n",
    "\n",
    "#继续初始化变量\n",
    "init=tf.global_variables_initializer()\n",
    "\n",
    "#equal()里面相等时，返回true,correct_prediction保存了很多true/false\n",
    "# arg_max返回一维张量中最大的值所在的位置\n",
    "#true所占的比例就是正确率\n",
    "correct_prediction=tf.equal(tf.arg_max(y,1),tf.argmax(prediction,1))\n",
    "#转化bool为float型\n",
    "accuracy=tf.reduce_mean(tf.cast(correct_prediction,tf.float32))\n",
    "\n",
    "#会话开始\n",
    "with tf.Session() as sess:\n",
    "    sess.run(init)\n",
    "    for epoch in range(21):\n",
    "        for batch in range(n_batch):\n",
    "            #获得一个批次的数据，然后训练，run的第一次参数将实现其方法，\n",
    "            #第二个参数投入所需数据 \n",
    "            batch_xs,batch_ys=minist.train.next_batch(batch_size)\n",
    "            sess.run(train_step,feed_dict={x:batch_xs,y:batch_ys})\n",
    "        acc=sess.run(accuracy,feed_dict={x:minist.test.images,y:minist.test.labels})\n",
    "        print(\"Iter\"+str(epoch)+\",Testing Accuracy\"+str(acc))\n",
    "        \n",
    "#可优化处   \n",
    "#batch_size  \n",
    "#增加隐藏层\n",
    "#weight 和biases的初始值\n",
    "#loss函数优化方式，学习率\n",
    "#最后的训练次数"
   ]
  },
  {
   "cell_type": "code",
   "execution_count": null,
   "metadata": {},
   "outputs": [],
   "source": []
  }
 ],
 "metadata": {
  "kernelspec": {
   "display_name": "Python 3",
   "language": "python",
   "name": "python3"
  },
  "language_info": {
   "codemirror_mode": {
    "name": "ipython",
    "version": 3
   },
   "file_extension": ".py",
   "mimetype": "text/x-python",
   "name": "python",
   "nbconvert_exporter": "python",
   "pygments_lexer": "ipython3",
   "version": "3.7.0"
  }
 },
 "nbformat": 4,
 "nbformat_minor": 2
}
