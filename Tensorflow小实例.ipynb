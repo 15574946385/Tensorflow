{
 "cells": [
  {
   "cell_type": "code",
   "execution_count": 1,
   "metadata": {},
   "outputs": [],
   "source": [
    "import tensorflow as tf\n",
    "import numpy as np"
   ]
  },
  {
   "cell_type": "code",
   "execution_count": 6,
   "metadata": {
    "scrolled": true
   },
   "outputs": [
    {
     "name": "stdout",
     "output_type": "stream",
     "text": [
      "0 [0.0053478074, 0.08259005]\n",
      "20 [0.013313423, 0.20560879]\n",
      "40 [0.013313696, 0.20561303]\n",
      "60 [0.013313696, 0.20561303]\n",
      "80 [0.013313696, 0.20561303]\n",
      "100 [0.013313696, 0.20561303]\n",
      "120 [0.013313696, 0.20561303]\n",
      "140 [0.013313696, 0.20561303]\n",
      "160 [0.013313696, 0.20561303]\n",
      "180 [0.013313696, 0.20561303]\n",
      "200 [0.013313696, 0.20561303]\n"
     ]
    }
   ],
   "source": [
    "#用numpy生成100个随机点，这是样本\n",
    "x_data=np.random.rand()\n",
    "y_data=x_data*0.1+0.2\n",
    "\n",
    "#构建一个线性模式，优化k和b使得拟合上面的样本\n",
    "b=tf.Variable(0.)\n",
    "k=tf.Variable(0.)\n",
    "y=k*x_data+b  #线性公式\n",
    "\n",
    "#定义二次代价函数\n",
    "#y_data-y是真实值减去预测值，然后求平方的平均\n",
    "loss=tf.reduce_mean(tf.square(y_data-y))\n",
    "\n",
    "#定义梯度下降法来训练的优化器\n",
    "optimaizer=tf.train.GradientDescentOptimizer(0.2)#学习率\n",
    "#最小化代价函数 \n",
    "train=optimaizer.minimize(loss)\n",
    "\n",
    "init=tf.global_variables_initializer()\n",
    "\n",
    "with tf.Session() as sess:\n",
    "    sess.run(init)\n",
    "    #迭代200次，不断改变k和b，降低loss值\n",
    "    for step in range(201):\n",
    "        sess.run(train)\n",
    "        #每20次打印，可以看到结果中k和b逐渐收敛\n",
    "        if step%20==0:\n",
    "            print(step,sess.run([k,b]))\n"
   ]
  },
  {
   "cell_type": "code",
   "execution_count": null,
   "metadata": {},
   "outputs": [],
   "source": []
  },
  {
   "cell_type": "code",
   "execution_count": null,
   "metadata": {},
   "outputs": [],
   "source": []
  }
 ],
 "metadata": {
  "kernelspec": {
   "display_name": "Python 3",
   "language": "python",
   "name": "python3"
  },
  "language_info": {
   "codemirror_mode": {
    "name": "ipython",
    "version": 3
   },
   "file_extension": ".py",
   "mimetype": "text/x-python",
   "name": "python",
   "nbconvert_exporter": "python",
   "pygments_lexer": "ipython3",
   "version": "3.7.0"
  }
 },
 "nbformat": 4,
 "nbformat_minor": 2
}
